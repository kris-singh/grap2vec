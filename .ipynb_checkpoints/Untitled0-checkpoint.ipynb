{
 "cells": [
  {
   "cell_type": "code",
   "execution_count": 13,
   "metadata": {
    "collapsed": false
   },
   "outputs": [],
   "source": [
    "%matplotlib inline  \n",
    "import networkx as nx\n",
    "import os \n",
    "import numpy as np\n",
    "import perm_matrix as pm\n",
    "import perms as p\n",
    "import sys"
   ]
  },
  {
   "cell_type": "code",
   "execution_count": 14,
   "metadata": {
    "collapsed": false
   },
   "outputs": [
    {
     "name": "stdout",
     "output_type": "stream",
     "text": [
      "/home/kris/Desktop/ML_DeppWalk/Data/all_graph10/graph5.g6\n",
      "5\n"
     ]
    },
    {
     "data": {
      "image/png": "[encoded data removed]",
      "text/plain": [
       "<matplotlib.figure.Figure at 0x7effe62042d0>"
      ]
     },
     "metadata": {},
     "output_type": "display_data"
    }
   ],
   "source": [
    "#dir_name = os.listdir('../Data/all_graph10/')\n",
    "#file_name = [\"../Data/all_graph10/\"+i  for i in dir_name]\n",
    "file_name = \"/home/kris/Desktop/ML_DeppWalk/Data/all_graph10/graph5.g6\"\n",
    "print file_name\n",
    "file_list = nx.read_graph6(file_name)\n",
    "nx.draw_networkx(file_list[2])\n",
    "print len(file_list[2])"
   ]
  },
  {
   "cell_type": "code",
   "execution_count": 15,
   "metadata": {
    "collapsed": false
   },
   "outputs": [],
   "source": [
    "\"\"\"Create e-neigbourhood for any.. subgraph(e-neighbourhood is defined as 1 deletion(edge or node) as on dummy graph)\"\"\"\n",
    "def e_neighbourhood_node_del(G):\n",
    "    G_prime = G.copy()\n",
    "    print type(G_prime)\n",
    "    G_prime.remove_node(np.random.choice(G_prime.nodes()))\n",
    "    return G_prime\n",
    "def e_neighbourhood_edge_del(G):\n",
    "    G_prime = G.copy()\n",
    "    print type(G_prime)\n",
    "    edges = G.edges()\n",
    "    #print np.random.choice(range(0,len(edges)-1))\n",
    "    print len(edges)-1 \n",
    "    if len(edges)-1 <= 0:\n",
    "        print \"here\"\n",
    "    else:\n",
    "        G_prime.remove_edge(*edges[np.random.choice(range(0,len(edges)-1))])\n",
    "    return G_prime\n",
    "def e_neighbourhood_node_add(G):\n",
    "    G_prime = G.copy()\n",
    "    print type(G_prime)\n",
    "    \"\"\"choose some random nodes in the graph to which we have to add a edge\"\"\"\n",
    "    label = len(G_prime)\n",
    "    nodes_attach = np.random.randint(label)\n",
    "    \"\"\"node neigh computed before so no self loops\"\"\"\n",
    "    node_neig = [np.random.choice(G_prime.nodes()) for _ in range(1,nodes_attach)]\n",
    "    G_prime.add_node(label)\n",
    "    a = [label for i in range(1,len(node_neig))]\n",
    "    val = zip(a,node_neig)\n",
    "    print val\n",
    "    G_prime.add_edges_from(val)\n",
    "    return G_prime\n",
    "def e_neighbourhood_edge_add(G):\n",
    "    G_prime = G.copy()\n",
    "    print type(G_prime)\n",
    "    \"\"\"choose 2 random nodes and a edge\"\"\"\n",
    "    n1 = np.random.choice(G_prime.nodes())\n",
    "    n2 = np.random.choice(G_prime.nodes())\n",
    "    if n1 is not n2:\n",
    "        \"\"\"graphs are simple so no self loop\"\"\"\n",
    "        print \"herer\"\n",
    "        G_prime.add_edge(n1,n2)\n",
    "    return G_prime\n",
    "        "
   ]
  },
  {
   "cell_type": "code",
   "execution_count": 4,
   "metadata": {
    "collapsed": false
   },
   "outputs": [
    {
     "name": "stdout",
     "output_type": "stream",
     "text": [
      "<class 'networkx.classes.graph.Graph'>\n",
      "<class 'networkx.classes.graph.Graph'>\n",
      "1\n",
      "<class 'networkx.classes.graph.Graph'>\n",
      "herer\n",
      "<class 'networkx.classes.graph.Graph'>\n",
      "[]\n"
     ]
    },
    {
     "data": {
      "image/png": "[encoded data removed]",
      "text/plain": [
       "<matplotlib.figure.Figure at 0x7effe8b3f850>"
      ]
     },
     "metadata": {},
     "output_type": "display_data"
    }
   ],
   "source": [
    "\"\"\"run some unit test\"\"\"\n",
    "neigbourhood = e_neighbourhood_node_del(file_list[2])#pass\n",
    "neigbourhood = e_neighbourhood_edge_del(file_list[2]) #pass\n",
    "neigbourhood = e_neighbourhood_edge_add(file_list[2])#pass\n",
    "neigbourhood = e_neighbourhood_node_add(file_list[2])#pass\n",
    "nx.draw_networkx(neigbourhood)\n",
    "#add more boundary cases"
   ]
  },
  {
   "cell_type": "code",
   "execution_count": 8,
   "metadata": {
    "collapsed": false
   },
   "outputs": [
    {
     "name": "stdout",
     "output_type": "stream",
     "text": [
      "<class 'numpy.matrixlib.defmatrix.matrix'>\n"
     ]
    }
   ],
   "source": [
    "dict1 = {}\n",
    "print type(nx.to_numpy_matrix(neigbourhood))\n",
    "def seralize_matrix(matrix):\n",
    "    serialized_matrix = []\n",
    "    new_matrix = []\n",
    "    for i in range(0,len(matrix)) :\n",
    "        serialized_matrix.append(matrix[i][:])\n",
    "    print serialized_matrix\n",
    "    for i in serialized_matrix:\n",
    "        i = i.tolist()\n",
    "        print i\n",
    "        i = map(int,i)\n",
    "        i = map(str,i)\n",
    "        string = ''.join(i)\n",
    "        new_matrix.append(string)\n",
    "    return ''.join(new_matrix)\n",
    "def generate_all_isomorphic(graph):\n",
    "    \"\"\"\n",
    "    source for explanation math.stackexchange.com/questions/331233/showing-two-graphs-isomorphic-using-their-adjacency-matrices\n",
    "    \"\"\"\n",
    "    perm_matrix_list = perm_matrix(len(graph))\n",
    "    result = []\n",
    "    for i in perm_matrix_list:\n",
    "        result.append(np.dot(np.dot(i,graph),np.transpose(i)))\n",
    "    return result\n",
    "def perm_matrix(size):\n",
    "    \"\"\"\n",
    "    __params__:\n",
    "    size : size of the matrix you want to create\n",
    "    \"\"\"\n",
    "    org_matrix = np.identity(size)\n",
    "    string = [str(i) for i in range(0,size)]\n",
    "    all_strings =  p.perms(\"\".join(string))\n",
    "    all_matrix = []\n",
    "    for k,v in enumerate(all_strings):\n",
    "        matrix = np.zeros((size,size))\n",
    "        #perm matrix is square in cases of graphs adj matrix\n",
    "        #do this with list comprehension\n",
    "        for key,i in enumerate(v):\n",
    "            matrix[key][int(i)] = 1\n",
    "        all_matrix.append(matrix)\n",
    "    #print all_matrix[2]\n",
    "    return all_matrix\n",
    "def hashmap(graph,dictionary):\n",
    "    if seralize_matrix(graph) in dictionary:\n",
    "        pass\n",
    "    else:\n",
    "        keys = generate_all_isomorphic(graph)\n",
    "        num = np.random.randint(low = 0,high = sys.maxint)\n",
    "        while(n in dictionary.values()):\n",
    "            num = np.random.randint(low = 0,high = sys.maxint)\n",
    "        for k,v in enumerate(keys):\n",
    "            dictionary[seralize_matrix(v)] = num\n",
    "        return dictionary"
   ]
  },
  {
   "cell_type": "code",
   "execution_count": 9,
   "metadata": {
    "collapsed": false
   },
   "outputs": [
    {
     "name": "stdout",
     "output_type": "stream",
     "text": [
      "[array([[ 0.,  0.,  1.,  0.],\n",
      "       [ 0.,  1.,  0.,  0.],\n",
      "       [ 0.,  0.,  0.,  1.],\n",
      "       [ 1.,  0.,  0.,  0.]]), array([[ 0.,  1.,  0.,  0.],\n",
      "       [ 0.,  0.,  1.,  0.],\n",
      "       [ 0.,  0.,  0.,  1.],\n",
      "       [ 1.,  0.,  0.,  0.]]), array([[ 0.,  0.,  0.,  1.],\n",
      "       [ 0.,  0.,  1.,  0.],\n",
      "       [ 0.,  1.,  0.,  0.],\n",
      "       [ 1.,  0.,  0.,  0.]]), array([[ 0.,  0.,  1.,  0.],\n",
      "       [ 0.,  0.,  0.,  1.],\n",
      "       [ 0.,  1.,  0.,  0.],\n",
      "       [ 1.,  0.,  0.,  0.]]), array([[ 0.,  0.,  0.,  1.],\n",
      "       [ 0.,  1.,  0.,  0.],\n",
      "       [ 0.,  0.,  1.,  0.],\n",
      "       [ 1.,  0.,  0.,  0.]]), array([[ 0.,  1.,  0.,  0.],\n",
      "       [ 0.,  0.,  0.,  1.],\n",
      "       [ 0.,  0.,  1.,  0.],\n",
      "       [ 1.,  0.,  0.,  0.]]), array([[ 0.,  0.,  1.,  0.],\n",
      "       [ 0.,  0.,  0.,  1.],\n",
      "       [ 1.,  0.,  0.,  0.],\n",
      "       [ 0.,  1.,  0.,  0.]]), array([[ 0.,  0.,  0.,  1.],\n",
      "       [ 0.,  0.,  1.,  0.],\n",
      "       [ 1.,  0.,  0.,  0.],\n",
      "       [ 0.,  1.,  0.,  0.]]), array([[ 1.,  0.,  0.,  0.],\n",
      "       [ 0.,  0.,  1.,  0.],\n",
      "       [ 0.,  0.,  0.,  1.],\n",
      "       [ 0.,  1.,  0.,  0.]]), array([[ 0.,  0.,  1.,  0.],\n",
      "       [ 1.,  0.,  0.,  0.],\n",
      "       [ 0.,  0.,  0.,  1.],\n",
      "       [ 0.,  1.,  0.,  0.]]), array([[ 1.,  0.,  0.,  0.],\n",
      "       [ 0.,  0.,  0.,  1.],\n",
      "       [ 0.,  0.,  1.,  0.],\n",
      "       [ 0.,  1.,  0.,  0.]]), array([[ 0.,  0.,  0.,  1.],\n",
      "       [ 1.,  0.,  0.,  0.],\n",
      "       [ 0.,  0.,  1.,  0.],\n",
      "       [ 0.,  1.,  0.,  0.]]), array([[ 0.,  0.,  0.,  1.],\n",
      "       [ 0.,  1.,  0.,  0.],\n",
      "       [ 1.,  0.,  0.,  0.],\n",
      "       [ 0.,  0.,  1.,  0.]]), array([[ 0.,  1.,  0.,  0.],\n",
      "       [ 0.,  0.,  0.,  1.],\n",
      "       [ 1.,  0.,  0.,  0.],\n",
      "       [ 0.,  0.,  1.,  0.]]), array([[ 1.,  0.,  0.,  0.],\n",
      "       [ 0.,  0.,  0.,  1.],\n",
      "       [ 0.,  1.,  0.,  0.],\n",
      "       [ 0.,  0.,  1.,  0.]]), array([[ 0.,  0.,  0.,  1.],\n",
      "       [ 1.,  0.,  0.,  0.],\n",
      "       [ 0.,  1.,  0.,  0.],\n",
      "       [ 0.,  0.,  1.,  0.]]), array([[ 1.,  0.,  0.,  0.],\n",
      "       [ 0.,  1.,  0.,  0.],\n",
      "       [ 0.,  0.,  0.,  1.],\n",
      "       [ 0.,  0.,  1.,  0.]]), array([[ 0.,  1.,  0.,  0.],\n",
      "       [ 1.,  0.,  0.,  0.],\n",
      "       [ 0.,  0.,  0.,  1.],\n",
      "       [ 0.,  0.,  1.,  0.]]), array([[ 0.,  0.,  1.,  0.],\n",
      "       [ 0.,  1.,  0.,  0.],\n",
      "       [ 1.,  0.,  0.,  0.],\n",
      "       [ 0.,  0.,  0.,  1.]]), array([[ 0.,  1.,  0.,  0.],\n",
      "       [ 0.,  0.,  1.,  0.],\n",
      "       [ 1.,  0.,  0.,  0.],\n",
      "       [ 0.,  0.,  0.,  1.]]), array([[ 1.,  0.,  0.,  0.],\n",
      "       [ 0.,  0.,  1.,  0.],\n",
      "       [ 0.,  1.,  0.,  0.],\n",
      "       [ 0.,  0.,  0.,  1.]]), array([[ 0.,  0.,  1.,  0.],\n",
      "       [ 1.,  0.,  0.,  0.],\n",
      "       [ 0.,  1.,  0.,  0.],\n",
      "       [ 0.,  0.,  0.,  1.]]), array([[ 1.,  0.,  0.,  0.],\n",
      "       [ 0.,  1.,  0.,  0.],\n",
      "       [ 0.,  0.,  1.,  0.],\n",
      "       [ 0.,  0.,  0.,  1.]]), array([[ 0.,  1.,  0.,  0.],\n",
      "       [ 1.,  0.,  0.,  0.],\n",
      "       [ 0.,  0.,  1.,  0.],\n",
      "       [ 0.,  0.,  0.,  1.]])]\n"
     ]
    }
   ],
   "source": [
    "print perm_matrix(4)"
   ]
  },
  {
   "cell_type": "code",
   "execution_count": 12,
   "metadata": {
    "collapsed": false
   },
   "outputs": [
    {
     "name": "stdout",
     "output_type": "stream",
     "text": [
      "[array([ 0.,  0.,  0.,  0.,  1.,  0.]), array([ 0.,  0.,  0.,  0.,  1.,  0.]), array([ 0.,  0.,  0.,  0.,  0.,  0.]), array([ 0.,  0.,  0.,  0.,  0.,  0.]), array([ 1.,  1.,  0.,  0.,  0.,  0.]), array([ 0.,  0.,  0.,  0.,  0.,  0.])]\n",
      "[0.0, 0.0, 0.0, 0.0, 1.0, 0.0]\n",
      "[0.0, 0.0, 0.0, 0.0, 1.0, 0.0]\n",
      "[0.0, 0.0, 0.0, 0.0, 0.0, 0.0]\n",
      "[0.0, 0.0, 0.0, 0.0, 0.0, 0.0]\n",
      "[1.0, 1.0, 0.0, 0.0, 0.0, 0.0]\n",
      "[0.0, 0.0, 0.0, 0.0, 0.0, 0.0]\n"
     ]
    },
    {
     "ename": "NameError",
     "evalue": "global name 'sys' is not defined",
     "output_type": "error",
     "traceback": [
      "\u001b[1;31m---------------------------------------------------------------------------\u001b[0m",
      "\u001b[1;31mNameError\u001b[0m                                 Traceback (most recent call last)",
      "\u001b[1;32m<ipython-input-12-96bf7462f09d>\u001b[0m in \u001b[0;36m<module>\u001b[1;34m()\u001b[0m\n\u001b[0;32m      1\u001b[0m \u001b[0mhash_table\u001b[0m \u001b[1;33m=\u001b[0m \u001b[1;33m{\u001b[0m\u001b[1;33m}\u001b[0m\u001b[1;33m\u001b[0m\u001b[0m\n\u001b[1;32m----> 2\u001b[1;33m \u001b[0mhashmap\u001b[0m\u001b[1;33m(\u001b[0m\u001b[0mnp\u001b[0m\u001b[1;33m.\u001b[0m\u001b[0marray\u001b[0m\u001b[1;33m(\u001b[0m\u001b[0mnx\u001b[0m\u001b[1;33m.\u001b[0m\u001b[0mto_numpy_matrix\u001b[0m\u001b[1;33m(\u001b[0m\u001b[0mneigbourhood\u001b[0m\u001b[1;33m)\u001b[0m\u001b[1;33m)\u001b[0m\u001b[1;33m,\u001b[0m\u001b[0mhash_table\u001b[0m\u001b[1;33m)\u001b[0m\u001b[1;33m\u001b[0m\u001b[0m\n\u001b[0m",
      "\u001b[1;32m<ipython-input-8-f5ec335a9f0d>\u001b[0m in \u001b[0;36mhashmap\u001b[1;34m(graph, dictionary)\u001b[0m\n\u001b[0;32m     47\u001b[0m     \u001b[1;32melse\u001b[0m\u001b[1;33m:\u001b[0m\u001b[1;33m\u001b[0m\u001b[0m\n\u001b[0;32m     48\u001b[0m         \u001b[0mkeys\u001b[0m \u001b[1;33m=\u001b[0m \u001b[0mgenerate_all_isomorphic\u001b[0m\u001b[1;33m(\u001b[0m\u001b[0mgraph\u001b[0m\u001b[1;33m)\u001b[0m\u001b[1;33m\u001b[0m\u001b[0m\n\u001b[1;32m---> 49\u001b[1;33m         \u001b[0mnum\u001b[0m \u001b[1;33m=\u001b[0m \u001b[0mnp\u001b[0m\u001b[1;33m.\u001b[0m\u001b[0mrandom\u001b[0m\u001b[1;33m.\u001b[0m\u001b[0mrandint\u001b[0m\u001b[1;33m(\u001b[0m\u001b[0mlow\u001b[0m \u001b[1;33m=\u001b[0m \u001b[1;36m0\u001b[0m\u001b[1;33m,\u001b[0m\u001b[0mhigh\u001b[0m \u001b[1;33m=\u001b[0m \u001b[0msys\u001b[0m\u001b[1;33m.\u001b[0m\u001b[0mmaxint\u001b[0m\u001b[1;33m)\u001b[0m\u001b[1;33m\u001b[0m\u001b[0m\n\u001b[0m\u001b[0;32m     50\u001b[0m         \u001b[1;32mfor\u001b[0m \u001b[0mk\u001b[0m\u001b[1;33m,\u001b[0m\u001b[0mv\u001b[0m \u001b[1;32min\u001b[0m \u001b[0menumerate\u001b[0m\u001b[1;33m(\u001b[0m\u001b[0mkeys\u001b[0m\u001b[1;33m)\u001b[0m\u001b[1;33m:\u001b[0m\u001b[1;33m\u001b[0m\u001b[0m\n\u001b[0;32m     51\u001b[0m             \u001b[0mdictionary\u001b[0m\u001b[1;33m[\u001b[0m\u001b[0mseralize_matrix\u001b[0m\u001b[1;33m(\u001b[0m\u001b[0mv\u001b[0m\u001b[1;33m)\u001b[0m\u001b[1;33m]\u001b[0m \u001b[1;33m=\u001b[0m \u001b[0mnum\u001b[0m\u001b[1;33m\u001b[0m\u001b[0m\n",
      "\u001b[1;31mNameError\u001b[0m: global name 'sys' is not defined"
     ]
    }
   ],
   "source": [
    "hash_table = {}\n",
    "hashmap(np.array(nx.to_numpy_matrix(neigbourhood)),hash_table)"
   ]
  }
 ],
 "metadata": {
  "kernelspec": {
   "display_name": "Python 2",
   "language": "python",
   "name": "python2"
  },
  "language_info": {
   "codemirror_mode": {
    "name": "ipython",
    "version": 2
   },
   "file_extension": ".py",
   "mimetype": "text/x-python",
   "name": "python",
   "nbconvert_exporter": "python",
   "pygments_lexer": "ipython2",
   "version": "2.7.11"
  }
 },
 "nbformat": 4,
 "nbformat_minor": 0
}
