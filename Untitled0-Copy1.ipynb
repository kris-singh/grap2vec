{
 "cells": [
  {
   "cell_type": "code",
   "execution_count": 1,
   "metadata": {
    "collapsed": false
   },
   "outputs": [
    {
     "name": "stderr",
     "output_type": "stream",
     "text": [
      "/home/kris/anaconda2/lib/python2.7/site-packages/matplotlib/font_manager.py:273: UserWarning: Matplotlib is building the font cache using fc-list. This may take a moment.\n",
      "  warnings.warn('Matplotlib is building the font cache using fc-list. This may take a moment.')\n"
     ]
    }
   ],
   "source": [
    "%matplotlib inline  \n",
    "import networkx as nx\n",
    "import os \n",
    "import numpy as np\n",
    "import perm_matrix as pm\n",
    "import perms as p\n",
    "import sys\n",
    "import math\n",
    "import csv\n",
    "from gensim.models import word2vec\n",
    "from itertools import permutations\n",
    "ret_start_val = -1"
   ]
  },
  {
   "cell_type": "code",
   "execution_count": 2,
   "metadata": {
    "collapsed": false
   },
   "outputs": [
    {
     "name": "stdout",
     "output_type": "stream",
     "text": [
      "/home/kris/Desktop/ML_DeppWalk/Data/all_graph10/graph4.g6\n",
      "11\n"
     ]
    },
    {
     "data": {
      "image/png": "[encoded data removed]",
      "text/plain": [
       "<matplotlib.figure.Figure at 0x7f4504431e10>"
      ]
     },
     "metadata": {},
     "output_type": "display_data"
    }
   ],
   "source": [
    "#dir_name = os.listdir('../Data/all_graph10/')\n",
    "#file_name = [\"../Data/all_graph10/\"+i  for i in dir_name]\n",
    "#driver function for the program\n",
    "file_name = \"/home/kris/Desktop/ML_DeppWalk/Data/all_graph10/graph4.g6\"\n",
    "full_hash_table = []\n",
    "print file_name\n",
    "file_list = nx.read_graph6(file_name)\n",
    "d = 5 #context window size\n",
    "vocab = [] #vocab \"\"\"we migh have to save it to the disk and start again if size too big\"\"\"\n",
    "ret_start_val = 0\n",
    "total_neigh = []\n",
    "'''for i in range(0,len(file_list)):\n",
    "    present_neighbourhood = gen_neigbourhood(i)\n",
    "    start_val = max(0,ret_start_val)\n",
    "    total_neigh.append(present_neighbourhood)\n",
    "    ret_hash_table,key_mid = populate_table(i,start_val,present_neighbourhood)\n",
    "    #ret_start_val = max(list(ret_hash_table.values()))\n",
    "    #full_hash_table.append(ret_hash_table)\n",
    "    #create_partial_vocab(present_neighbourhood,ret_hash_table,key_mid,d,vocab)\n",
    "''' \n",
    "    \n",
    "nx.draw_networkx(file_list[7])\n",
    "print len(file_list)"
   ]
  },
  {
   "cell_type": "code",
   "execution_count": 3,
   "metadata": {
    "collapsed": false
   },
   "outputs": [],
   "source": [
    "\"\"\"Create e-neigbourhood for any.. subgraph(e-neighbourhood is defined as 1 deletion(edge or node) as on dummy graph)\"\"\"\n",
    "def e_neighbourhood_node_del(G):\n",
    "    G_prime = G.copy()\n",
    "    print type(G_prime)\n",
    "    if len(G_prime.nodes()) > 0:\n",
    "        G_prime.remove_node(np.random.choice(G_prime.nodes()))\n",
    "    else:\n",
    "        return None\n",
    "    return G_prime\n",
    "def e_neighbourhood_edge_del(G):\n",
    "    G_prime = G.copy()\n",
    "    print type(G_prime)\n",
    "    edges = G.edges()\n",
    "    #print np.random.choice(range(0,len(edges)-1))\n",
    "    print len(edges)-1 \n",
    "    if len(edges)-1 <= 0:\n",
    "        return None\n",
    "    else:\n",
    "        G_prime.remove_edge(*edges[np.random.choice(range(0,len(edges)-1))])\n",
    "    return G_prime\n",
    "def e_neighbourhood_node_add(G):\n",
    "    G_prime = G.copy()\n",
    "    print type(G_prime)\n",
    "    \"\"\"choose some random nodes in the graph to which we have to add a edge\"\"\"\n",
    "    label = len(G_prime)\n",
    "    nodes_attach = np.random.randint(label)\n",
    "    \"\"\"node neigh computed before so no self loops\"\"\"\n",
    "    node_neig = [np.random.choice(G_prime.nodes()) for _ in range(1,nodes_attach)]\n",
    "    G_prime.add_node(label)\n",
    "    a = [label for i in range(1,len(node_neig))]\n",
    "    val = zip(a,node_neig)\n",
    "    print val\n",
    "    G_prime.add_edges_from(val)\n",
    "    return G_prime\n",
    "def e_neighbourhood_edge_add(G):\n",
    "    G_prime = G.copy()\n",
    "    print type(G_prime)\n",
    "    \"\"\"choose 2 random nodes and a edge\"\"\"\n",
    "    n1 = np.random.choice(G_prime.nodes())\n",
    "    n2 = np.random.choice(G_prime.nodes())\n",
    "    if n1 is not n2:\n",
    "        \"\"\"graphs are simple so no self loop\"\"\"\n",
    "        print \"herer\"\n",
    "        G_prime.add_edge(n1,n2)\n",
    "    return G_prime\n",
    "        "
   ]
  },
  {
   "cell_type": "code",
   "execution_count": 4,
   "metadata": {
    "collapsed": false
   },
   "outputs": [],
   "source": [
    "\"\"\"run some unit test\"\"\"\n",
    "#neigbourhood = e_neighbourhood_node_del(file_list[2])#pass\n",
    "#neigbourhood = e_neighbourhood_edge_del(file_list[2]) #pass\n",
    "#neigbourhood = e_neighbourhood_edge_add(file_list[2])#pass\n",
    "#neigbourhood = e_neighbourhood_node_add(file_list[2])#pass\n",
    "#nx.draw_networkx(neigbourhood)\n",
    "#add more boundary cases\n",
    "\"\"\"Now randomly choose the choices we from 1 to 4 and apply the eps times\"\"\"\n",
    "def gen_neigbourhood(k):\n",
    "    eps = 3 #if eps is 3 we need 3 loops O(n^3)\n",
    "    #num_eps = 10 #number of eps neigbour hoods you want\n",
    "    neigbourhood = []\n",
    "    for i in range(0,4):\n",
    "        indermitate_graph = file_list[k]\n",
    "        for j in range(0,4):\n",
    "            for k in range(0,4):\n",
    "                indermitate_graph = function_enumerate_all_neighb(indermitate_graph,i,j,k)\n",
    "                if indermitate_graph is None:\n",
    "                    indermitate_graph = file_list[k]\n",
    "        neigbourhood.append(indermitate_graph)\n",
    "    return neigbourhood"
   ]
  },
  {
   "cell_type": "code",
   "execution_count": 5,
   "metadata": {
    "collapsed": false
   },
   "outputs": [],
   "source": [
    "def function_enumerate_all_neighb(graph,i,j,k):\n",
    "    indermitate_graph = graph\n",
    "    if i is 0:\n",
    "        indermitate_graph = e_neighbourhood_edge_del(indermitate_graph)\n",
    "        if indermitate_graph is None:\n",
    "            return None\n",
    "        else:\n",
    "            indermitate_graph = indermitate_graph.copy()\n",
    "    elif i is 1:\n",
    "        indermitate_graph = e_neighbourhood_node_del(indermitate_graph)\n",
    "        if indermitate_graph is None:\n",
    "            return None\n",
    "        else:\n",
    "            indermitate_graph = indermitate_graph.copy()\n",
    "    elif i is 2:\n",
    "        indermitate_graph = e_neighbourhood_node_add(indermitate_graph).copy()\n",
    "    elif i is 3:\n",
    "        indermitate_graph = e_neighbourhood_edge_add(indermitate_graph).copy()\n",
    "    elif j is 0:\n",
    "        indermitate_graph = e_neighbourhood_edge_del(indermitate_graph)\n",
    "        if indermitate_graph is None:\n",
    "            return None\n",
    "        else:\n",
    "            indermitate_graph = indermitate_graph.copy()\n",
    "    elif j is 1:\n",
    "        indermitate_graph = e_neighbourhood_node_del(indermitate_graph)\n",
    "        if indermitate_graph is None:\n",
    "            return None\n",
    "        else:\n",
    "            indermitate_graph = indermitate_graph.copy()\n",
    "    elif j is 2:\n",
    "        indermitate_graph = e_neighbourhood_node_add(indermitate_graph).copy()\n",
    "    elif j is 3:\n",
    "        indermitate_graph = e_neighbourhood_edge_add(indermitate_graph).copy()\n",
    "    elif k is 0:\n",
    "        indermitate_graph = e_neighbourhood_edge_del(indermitate_graph)\n",
    "        if indermitate_graph is None:\n",
    "            return None\n",
    "        else:\n",
    "            indermitate_graph = indermitate_graph.copy()\n",
    "    elif k is 1:\n",
    "        indermitate_graph = e_neighbourhood_node_del(indermitate_graph)\n",
    "        if indermitate_graph is None:\n",
    "            return None\n",
    "        else:\n",
    "            indermitate_graph = indermitate_graph.copy()\n",
    "    elif k is 2:\n",
    "        indermitate_graph = e_neighbourhood_node_add(indermitate_graph).copy()\n",
    "    elif k is 3:\n",
    "        indermitate_graph = e_neighbourhood_edge_add(indermitate_graph).copy()\n",
    "\n",
    "    return indermitate_graph\n",
    "\n"
   ]
  },
  {
   "cell_type": "code",
   "execution_count": 6,
   "metadata": {
    "collapsed": false
   },
   "outputs": [],
   "source": [
    "dict1 = {}\n",
    "def seralize_matrix(matrix):\n",
    "    serialized_matrix = []\n",
    "    new_matrix = []\n",
    "    for i in range(0,len(matrix)) :\n",
    "        serialized_matrix.append(matrix[i][:])\n",
    "    #print serialized_matrix\n",
    "    for i in serialized_matrix:\n",
    "        i = i.tolist()\n",
    "        i = map(int,i)\n",
    "        i = map(str,i)\n",
    "        string = ''.join(i)\n",
    "        new_matrix.append(string)\n",
    "    return ''.join(new_matrix)\n",
    "def generate_all_isomorphic(graph):\n",
    "    \"\"\"\n",
    "    source for explanation math.stackexchange.com/questions/331233/showing-two-graphs-isomorphic-using-their-adjacency-matrices\n",
    "    \"\"\"\n",
    "    perm_matrix_list = perm_matrix(len(graph))\n",
    "    result = []\n",
    "    for i in perm_matrix_list:\n",
    "        result.append(np.dot(np.dot(i,graph),np.transpose(i)))\n",
    "    return result\n",
    "def perm_matrix(size):\n",
    "    \"\"\"\n",
    "    __params__:\n",
    "    size : size of the matrix you want to create\n",
    "    \"\"\"\n",
    "    org_matrix = np.identity(size)\n",
    "    string = [str(i) for i in range(0,size)]\n",
    "    all_strings = list(map(\"\".join, permutations(\"\".join(string))))\n",
    "    #all_strings =  p.perms(\"\".join(string))\n",
    "    all_matrix = []\n",
    "    for k,v in enumerate(all_strings):\n",
    "        matrix = np.zeros((size,size))\n",
    "        #perm matrix is square in cases of graphs adj matrix\n",
    "        #do this with list comprehension\n",
    "        for key,i in enumerate(v):\n",
    "            matrix[key][int(i)] = 1\n",
    "        all_matrix.append(matrix)\n",
    "    #print all_matrix[2]\n",
    "    return all_matrix\n",
    "def hashmap(graph,dictionary,counter):\n",
    "    if seralize_matrix(graph) in dictionary:\n",
    "        for key in dictionary.keys():\n",
    "            if seralize_matrix(graph) == key:\n",
    "                print \"already exists\"\n",
    "                dictionary[key] = counter\n",
    "    else:\n",
    "        keys = generate_all_isomorphic(graph)\n",
    "        keys_serilized = []\n",
    "        for i in keys:\n",
    "            keys_serilized.append(seralize_matrix(i))\n",
    "        for i in keys_serilized:\n",
    "            print i\n",
    "            dictionary[i] = counter"
   ]
  },
  {
   "cell_type": "code",
   "execution_count": 7,
   "metadata": {
    "collapsed": false
   },
   "outputs": [],
   "source": [
    "def populate_table(k,starting_val,neigbourhood):\n",
    "    hash_table = {}\n",
    "    \"\"\"create a enrty for all neighbourhoods you found\"\"\"\n",
    "    for i in neigbourhood:\n",
    "        if len(hash_table.values()) is 0:\n",
    "            counter = starting_val + 1\n",
    "        else:\n",
    "            counter = max(hash_table.values()) + 1\n",
    "        hashmap(np.array(nx.to_numpy_matrix(i)),hash_table,counter)"
   ]
  },
  {
   "cell_type": "code",
   "execution_count": 8,
   "metadata": {
    "collapsed": false
   },
   "outputs": [],
   "source": [
    "\"\"\"okay so my idea is to create a new hashtable for all these subgraphs and generate corpus and then destroy them\"\"\"\n",
    "def create_partial_vocab(neigbourhood,hash_table,key_mid,d,vocab):\n",
    "    \"\"\"take 2*len(neigbourhood) such samples\"\"\"\n",
    "    for i in range(1,2*len(neigbourhood)):\n",
    "        choices = [np.random.choice(hash_table.values()) for i in range(1,d)]\n",
    "        choices.insert(int(math.floor(d/2)),hash_table[key_mid])\n",
    "        choices = map(str,choices)\n",
    "        vocab.append(\" \".join(choices))\n",
    "    print vocab"
   ]
  },
  {
   "cell_type": "code",
   "execution_count": 39,
   "metadata": {
    "collapsed": false
   },
   "outputs": [
    {
     "data": {
      "text/plain": [
       "[array([[ 1.,  0.,  0.],\n",
       "        [ 0.,  1.,  0.],\n",
       "        [ 0.,  0.,  1.]]), array([[ 1.,  0.,  0.],\n",
       "        [ 0.,  0.,  1.],\n",
       "        [ 0.,  1.,  0.]]), array([[ 0.,  1.,  0.],\n",
       "        [ 1.,  0.,  0.],\n",
       "        [ 0.,  0.,  1.]]), array([[ 0.,  1.,  0.],\n",
       "        [ 0.,  0.,  1.],\n",
       "        [ 1.,  0.,  0.]]), array([[ 0.,  0.,  1.],\n",
       "        [ 1.,  0.,  0.],\n",
       "        [ 0.,  1.,  0.]]), array([[ 0.,  0.,  1.],\n",
       "        [ 0.,  1.,  0.],\n",
       "        [ 1.,  0.,  0.]])]"
      ]
     },
     "execution_count": 39,
     "metadata": {},
     "output_type": "execute_result"
    }
   ],
   "source": [
    "perm_matrix(3)"
   ]
  },
  {
   "cell_type": "code",
   "execution_count": null,
   "metadata": {
    "collapsed": false
   },
   "outputs": [],
   "source": [
    "vocab = [i.split() for i in vocab]\n",
    "model = word2vec.Word2Vec(vocab, size=5, window=5, min_count=0, workers=4)"
   ]
  },
  {
   "cell_type": "code",
   "execution_count": 15,
   "metadata": {
    "collapsed": false
   },
   "outputs": [
    {
     "name": "stdout",
     "output_type": "stream",
     "text": [
      "<class 'networkx.classes.graph.Graph'>\n",
      "2\n",
      "<class 'networkx.classes.graph.Graph'>\n",
      "1\n",
      "<class 'networkx.classes.graph.Graph'>\n",
      "0\n",
      "<class 'networkx.classes.graph.Graph'>\n",
      "1\n",
      "<class 'networkx.classes.graph.Graph'>\n",
      "0\n",
      "<class 'networkx.classes.graph.Graph'>\n",
      "-1\n",
      "<class 'networkx.classes.graph.Graph'>\n",
      "0\n",
      "<class 'networkx.classes.graph.Graph'>\n",
      "1\n",
      "<class 'networkx.classes.graph.Graph'>\n",
      "0\n",
      "<class 'networkx.classes.graph.Graph'>\n",
      "-1\n",
      "<class 'networkx.classes.graph.Graph'>\n",
      "0\n",
      "<class 'networkx.classes.graph.Graph'>\n",
      "1\n",
      "<class 'networkx.classes.graph.Graph'>\n",
      "0\n",
      "<class 'networkx.classes.graph.Graph'>\n",
      "-1\n",
      "<class 'networkx.classes.graph.Graph'>\n",
      "0\n",
      "<class 'networkx.classes.graph.Graph'>\n",
      "1\n",
      "<class 'networkx.classes.graph.Graph'>\n",
      "<class 'networkx.classes.graph.Graph'>\n",
      "<class 'networkx.classes.graph.Graph'>\n",
      "<class 'networkx.classes.graph.Graph'>\n",
      "<class 'networkx.classes.graph.Graph'>\n",
      "<class 'networkx.classes.graph.Graph'>\n",
      "<class 'networkx.classes.graph.Graph'>\n",
      "<class 'networkx.classes.graph.Graph'>\n",
      "<class 'networkx.classes.graph.Graph'>\n",
      "<class 'networkx.classes.graph.Graph'>\n",
      "<class 'networkx.classes.graph.Graph'>\n",
      "<class 'networkx.classes.graph.Graph'>\n",
      "<class 'networkx.classes.graph.Graph'>\n",
      "<class 'networkx.classes.graph.Graph'>\n",
      "<class 'networkx.classes.graph.Graph'>\n",
      "<class 'networkx.classes.graph.Graph'>\n",
      "<class 'networkx.classes.graph.Graph'>\n",
      "[(4, 1)]\n",
      "<class 'networkx.classes.graph.Graph'>\n",
      "[]\n",
      "<class 'networkx.classes.graph.Graph'>\n",
      "[]\n",
      "<class 'networkx.classes.graph.Graph'>\n",
      "[(7, 4), (7, 5)]\n",
      "<class 'networkx.classes.graph.Graph'>\n",
      "[(8, 1), (8, 3), (8, 4)]\n",
      "<class 'networkx.classes.graph.Graph'>\n",
      "[(9, 0), (9, 0), (9, 3), (9, 0)]\n",
      "<class 'networkx.classes.graph.Graph'>\n",
      "[(10, 8), (10, 1), (10, 7), (10, 6)]\n",
      "<class 'networkx.classes.graph.Graph'>\n",
      "[(11, 7), (11, 0)]\n",
      "<class 'networkx.classes.graph.Graph'>\n",
      "[(12, 8), (12, 8), (12, 8), (12, 7), (12, 11), (12, 4), (12, 0), (12, 6), (12, 0)]\n",
      "<class 'networkx.classes.graph.Graph'>\n",
      "[(13, 7)]\n",
      "<class 'networkx.classes.graph.Graph'>\n",
      "[(14, 4), (14, 0), (14, 12), (14, 3)]\n",
      "<class 'networkx.classes.graph.Graph'>\n",
      "[(15, 3), (15, 5), (15, 9)]\n",
      "<class 'networkx.classes.graph.Graph'>\n",
      "[]\n",
      "<class 'networkx.classes.graph.Graph'>\n",
      "[(17, 0), (17, 16), (17, 1), (17, 12), (17, 3), (17, 7), (17, 0), (17, 15)]\n",
      "<class 'networkx.classes.graph.Graph'>\n",
      "[(18, 4), (18, 3), (18, 2), (18, 2), (18, 9), (18, 16), (18, 8), (18, 17), (18, 16), (18, 1)]\n",
      "<class 'networkx.classes.graph.Graph'>\n",
      "[(19, 11), (19, 8), (19, 6), (19, 9), (19, 0), (19, 6), (19, 1), (19, 14), (19, 7)]\n",
      "<class 'networkx.classes.graph.Graph'>\n",
      "herer\n",
      "<class 'networkx.classes.graph.Graph'>\n",
      "herer\n",
      "<class 'networkx.classes.graph.Graph'>\n",
      "herer\n",
      "<class 'networkx.classes.graph.Graph'>\n",
      "herer\n",
      "<class 'networkx.classes.graph.Graph'>\n",
      "herer\n",
      "<class 'networkx.classes.graph.Graph'>\n",
      "herer\n",
      "<class 'networkx.classes.graph.Graph'>\n",
      "herer\n",
      "<class 'networkx.classes.graph.Graph'>\n",
      "herer\n",
      "<class 'networkx.classes.graph.Graph'>\n",
      "herer\n",
      "<class 'networkx.classes.graph.Graph'>\n",
      "herer\n",
      "<class 'networkx.classes.graph.Graph'>\n",
      "herer\n",
      "<class 'networkx.classes.graph.Graph'>\n",
      "herer\n",
      "<class 'networkx.classes.graph.Graph'>\n",
      "herer\n",
      "<class 'networkx.classes.graph.Graph'>\n",
      "herer\n",
      "<class 'networkx.classes.graph.Graph'>\n",
      "herer\n",
      "<class 'networkx.classes.graph.Graph'>\n",
      "herer\n"
     ]
    },
    {
     "ename": "TypeError",
     "evalue": "'int' object has no attribute '__getitem__'",
     "output_type": "error",
     "traceback": [
      "\u001b[1;31m---------------------------------------------------------------------------\u001b[0m",
      "\u001b[1;31mTypeError\u001b[0m                                 Traceback (most recent call last)",
      "\u001b[1;32m<ipython-input-15-df37e41057f8>\u001b[0m in \u001b[0;36m<module>\u001b[1;34m()\u001b[0m\n\u001b[0;32m      3\u001b[0m \u001b[0mstart_val\u001b[0m \u001b[1;33m=\u001b[0m \u001b[0mmax\u001b[0m\u001b[1;33m(\u001b[0m\u001b[1;36m0\u001b[0m\u001b[1;33m,\u001b[0m\u001b[0mret_start_val\u001b[0m\u001b[1;33m)\u001b[0m\u001b[1;33m\u001b[0m\u001b[0m\n\u001b[0;32m      4\u001b[0m \u001b[0mtotal_neigh\u001b[0m\u001b[1;33m.\u001b[0m\u001b[0mappend\u001b[0m\u001b[1;33m(\u001b[0m\u001b[0mpresent_neighbourhood\u001b[0m\u001b[1;33m)\u001b[0m\u001b[1;33m\u001b[0m\u001b[0m\n\u001b[1;32m----> 5\u001b[1;33m \u001b[1;32mprint\u001b[0m \u001b[0mi\u001b[0m\u001b[1;33m[\u001b[0m\u001b[1;36m0\u001b[0m\u001b[1;33m]\u001b[0m\u001b[1;33m\u001b[0m\u001b[0m\n\u001b[0m\u001b[0;32m      6\u001b[0m \u001b[1;32mprint\u001b[0m \u001b[0mgenerate_all_isomorphic\u001b[0m\u001b[1;33m(\u001b[0m\u001b[0mi\u001b[0m\u001b[1;33m[\u001b[0m\u001b[1;36m0\u001b[0m\u001b[1;33m]\u001b[0m\u001b[1;33m)\u001b[0m\u001b[1;33m\u001b[0m\u001b[0m\n\u001b[0;32m      7\u001b[0m \u001b[1;33m\u001b[0m\u001b[0m\n",
      "\u001b[1;31mTypeError\u001b[0m: 'int' object has no attribute '__getitem__'"
     ]
    }
   ],
   "source": [
    "i = 3\n",
    "present_neighbourhood = gen_neigbourhood(i)\n",
    "start_val = max(0,ret_start_val)\n",
    "total_neigh.append(present_neighbourhood)\n",
    "print i[0]\n",
    "print generate_all_isomorphic(i[0])\n",
    "\n",
    "#ret_hash_table,key_mid = populate_table(i,start_val,present_neighbourhood)\n"
   ]
  },
  {
   "cell_type": "code",
   "execution_count": 248,
   "metadata": {
    "collapsed": false
   },
   "outputs": [
    {
     "data": {
      "text/plain": [
       "0.74299026689315484"
      ]
     },
     "execution_count": 248,
     "metadata": {},
     "output_type": "execute_result"
    }
   ],
   "source": [
    "model.n_similarity([\"1\"], [\"2\"])"
   ]
  },
  {
   "cell_type": "code",
   "execution_count": 249,
   "metadata": {
    "collapsed": false
   },
   "outputs": [],
   "source": [
    "writer = csv.writer(open('hashmap_.csv', 'wb'))\n",
    "for i in full_hash_table:\n",
    "    for key, value in i.items():\n",
    "        writer.writerow([key, value])"
   ]
  }
 ],
 "metadata": {
  "kernelspec": {
   "display_name": "Python 2",
   "language": "python",
   "name": "python2"
  },
  "language_info": {
   "codemirror_mode": {
    "name": "ipython",
    "version": 2
   },
   "file_extension": ".py",
   "mimetype": "text/x-python",
   "name": "python",
   "nbconvert_exporter": "python",
   "pygments_lexer": "ipython2",
   "version": "2.7.11"
  }
 },
 "nbformat": 4,
 "nbformat_minor": 0
}
